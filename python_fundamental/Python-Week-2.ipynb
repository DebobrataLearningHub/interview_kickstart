{
 "cells": [
  {
   "cell_type": "markdown",
   "id": "e587d4dd-7dd5-4c36-b4fc-113f78f51240",
   "metadata": {},
   "source": [
    "## 1 Majority Element"
   ]
  },
  {
   "cell_type": "code",
   "execution_count": 3,
   "id": "09797531-6384-4ab1-b3b7-b3cb773d2b73",
   "metadata": {},
   "outputs": [
    {
     "data": {
      "text/plain": [
       "4"
      ]
     },
     "execution_count": 3,
     "metadata": {},
     "output_type": "execute_result"
    }
   ],
   "source": [
    "def majority_element(nums):\n",
    "    \"\"\"\n",
    "    Args:\n",
    "     nums(list_int32)\n",
    "    Returns:\n",
    "     int32\n",
    "    \"\"\"\n",
    "    freq={}\n",
    "    for num in nums:\n",
    "        if num in freq:\n",
    "            freq[num] +=1\n",
    "        else:\n",
    "            freq[num] =1\n",
    "        if(freq[num]>len(nums)//2):\n",
    "            return num\n",
    "\n",
    "majority_element([4,2,3,4,4])"
   ]
  },
  {
   "cell_type": "markdown",
   "id": "52d02a44-4ec5-47a3-b051-dba0f69aada0",
   "metadata": {},
   "source": [
    "## 2 Two Sum In A Sorted Array"
   ]
  },
  {
   "cell_type": "code",
   "execution_count": 4,
   "id": "04734adb-99db-4a38-b69b-5079b6781739",
   "metadata": {},
   "outputs": [
    {
     "data": {
      "text/plain": [
       "[3, 0]"
      ]
     },
     "execution_count": 4,
     "metadata": {},
     "output_type": "execute_result"
    }
   ],
   "source": [
    "def pair_sum_sorted_array(numbers, target):\n",
    "    \"\"\"\n",
    "    Args:\n",
    "     numbers(list_int32)\n",
    "     target(int32)\n",
    "    Returns:\n",
    "     list_int32\n",
    "    \"\"\"\n",
    "    dict_1={}\n",
    "    for idx,num in enumerate(numbers):\n",
    "        remaining = target - num\n",
    "        if remaining in dict_1:\n",
    "            return [idx,dict_1[remaining]]\n",
    "        else:\n",
    "            dict_1[num]=idx\n",
    "    return [-1,-1]\n",
    "pair_sum_sorted_array([3,2,2,4],7)"
   ]
  },
  {
   "cell_type": "markdown",
   "id": "d747db24-5384-4904-9bc4-d2da1187039a",
   "metadata": {},
   "source": [
    "## 3 Check If An Array Contains Duplicates"
   ]
  },
  {
   "cell_type": "code",
   "execution_count": 5,
   "id": "c445724a-b1b0-4f89-b957-35ec4401e7ca",
   "metadata": {},
   "outputs": [
    {
     "data": {
      "text/plain": [
       "True"
      ]
     },
     "execution_count": 5,
     "metadata": {},
     "output_type": "execute_result"
    }
   ],
   "source": [
    "def check_if_array_contains_duplicate(nums):\n",
    "    \"\"\"\n",
    "    Args:\n",
    "     nums(list_int32)\n",
    "    Returns:\n",
    "     bool\n",
    "    \"\"\"\n",
    "    # Write your code here.\n",
    "    duplicate =[]\n",
    "    for num in nums:\n",
    "        if num in duplicate:\n",
    "            return True\n",
    "        else:\n",
    "            duplicate.append(num)\n",
    "        \n",
    "    return False\n",
    "\n",
    "check_if_array_contains_duplicate([10, 30, 10, 20])"
   ]
  },
  {
   "cell_type": "markdown",
   "id": "dfcc653d-f447-4147-b497-59f31b5fc2ea",
   "metadata": {},
   "source": [
    "## 4 Intersection Of Two Sorted Arrays"
   ]
  },
  {
   "cell_type": "code",
   "execution_count": 6,
   "id": "3e1b6fb4-122f-4458-a5c0-a9283829164b",
   "metadata": {},
   "outputs": [
    {
     "data": {
      "text/plain": [
       "[2, 7]"
      ]
     },
     "execution_count": 6,
     "metadata": {},
     "output_type": "execute_result"
    }
   ],
   "source": [
    "def get_intersection(numbers1, numbers2):\n",
    "    \"\"\"\n",
    "    Args:\n",
    "     numbers1(list_int32)\n",
    "     numbers2(list_int32)\n",
    "    Returns:\n",
    "     list_int32\n",
    "    \"\"\"\n",
    "    # Write your code here.\n",
    "    intersection_list = []\n",
    "    set_1 = set(numbers1)\n",
    "    set_2 = set(numbers2)\n",
    "    for num in set_1:\n",
    "        if num in set_2:\n",
    "            intersection_list.append(num)  \n",
    "    \n",
    "    if len(intersection_list)==0:\n",
    "        return [-1]\n",
    "\n",
    "    intersection_list.sort()\n",
    "\n",
    "    return intersection_list\n",
    "\n",
    "get_intersection([1, 2, 2, 6, 7],[5, 2,7, 7])"
   ]
  },
  {
   "cell_type": "markdown",
   "id": "43f8c02f-a1ec-40d8-bc2e-f050d9c579f7",
   "metadata": {},
   "source": [
    "## 5 Squares Of A Sorted Array"
   ]
  },
  {
   "cell_type": "code",
   "execution_count": 7,
   "id": "4b5f2404-5cd0-4325-af45-f4a95f4c1025",
   "metadata": {},
   "outputs": [
    {
     "data": {
      "text/plain": [
       "[4, 9, 16, 25, 36]"
      ]
     },
     "execution_count": 7,
     "metadata": {},
     "output_type": "execute_result"
    }
   ],
   "source": [
    "def generate_sorted_array_of_squares(numbers):\n",
    "    \"\"\"\n",
    "    Args:\n",
    "     numbers(list_int32)\n",
    "    Returns:\n",
    "     list_int32\n",
    "    \"\"\"\n",
    "    # Write your code here.\n",
    "    result = list(map(lambda num : num**2 ,numbers ))\n",
    "    result.sort()\n",
    "    return result\n",
    "\n",
    "generate_sorted_array_of_squares([2,4,3,5,6])"
   ]
  },
  {
   "cell_type": "markdown",
   "id": "7733cf4b-3ffd-4ff5-83e0-65a8b27f069e",
   "metadata": {},
   "source": [
    "## 6 Single Number"
   ]
  },
  {
   "cell_type": "code",
   "execution_count": 8,
   "id": "2e578144-8676-42b0-816f-5b11ddd31384",
   "metadata": {},
   "outputs": [
    {
     "data": {
      "text/plain": [
       "5"
      ]
     },
     "execution_count": 8,
     "metadata": {},
     "output_type": "execute_result"
    }
   ],
   "source": [
    "def single_number(arr):\n",
    "    \"\"\"\n",
    "    Args:\n",
    "     arr(list_int32)\n",
    "    Returns:\n",
    "     int32\n",
    "    \"\"\"\n",
    "    # Write your code here.\n",
    "    dict_1 ={}\n",
    "    for num in arr:\n",
    "        if num in dict_1:\n",
    "            dict_1[num] += 1\n",
    "        else:\n",
    "           dict_1[num] = 1\n",
    "    \n",
    "    for key,val in dict_1.items():\n",
    "        if val == 1:\n",
    "            return key\n",
    "\n",
    "single_number([2, 1, 2, 5, 1])"
   ]
  },
  {
   "cell_type": "markdown",
   "id": "79c1452e-6cb0-4090-a2ff-22c86928f0d6",
   "metadata": {},
   "source": [
    "## 7 Maximum Sum Subarray"
   ]
  },
  {
   "cell_type": "code",
   "execution_count": 11,
   "id": "1d8ccd06-476a-466b-ab75-857e7c2556a3",
   "metadata": {},
   "outputs": [
    {
     "data": {
      "text/plain": [
       "12"
      ]
     },
     "execution_count": 11,
     "metadata": {},
     "output_type": "execute_result"
    }
   ],
   "source": [
    "def find_maximum_sum_subarray(numbers):\n",
    "    \"\"\"\n",
    "    Args:\n",
    "     numbers(list_int32)\n",
    "    Returns:\n",
    "     int32\n",
    "    \"\"\"\n",
    "    # Write your code here.\n",
    "    curr_sum_subarray = 0\n",
    "    max_sum_subarray = numbers[0]  \n",
    "    \n",
    "    for num in numbers:\n",
    "        curr_sum_subarray = max(curr_sum_subarray+num,num)        \n",
    "        max_sum_subarray = max(curr_sum_subarray,max_sum_subarray)\n",
    "    return max_sum_subarray\n",
    "\n",
    "find_maximum_sum_subarray([2, -6, 3, 4, 5, -5])"
   ]
  },
  {
   "cell_type": "markdown",
   "id": "1226295c-43c8-4511-8f72-22c6abb8a495",
   "metadata": {},
   "source": [
    "## 8 Find Winner Of Election"
   ]
  },
  {
   "cell_type": "code",
   "execution_count": 14,
   "id": "4493601d-312e-4368-857d-8d8d1a44b029",
   "metadata": {},
   "outputs": [
    {
     "data": {
      "text/plain": [
       "'johnny'"
      ]
     },
     "execution_count": 14,
     "metadata": {},
     "output_type": "execute_result"
    }
   ],
   "source": [
    "def find_winner(votes):\n",
    "    candidate_vote_map={}\n",
    "    max_vote = 0\n",
    "    win_candidate = \"\"\n",
    "    for vote in votes:\n",
    "        if vote in candidate_vote_map.keys():            \n",
    "            candidate_vote_map[vote] +=1\n",
    "        else:\n",
    "            candidate_vote_map[vote] =1\n",
    "\n",
    "    for key , val in candidate_vote_map.items():\n",
    "        if val >= max_vote:\n",
    "            max_vote = val\n",
    "            win_candidate = key\n",
    "            \n",
    "    return win_candidate\n",
    "\n",
    "find_winner ([\"john\", \"johnny\", \"jackie\", \"johnny\", \"john\", \"jackie\", \"jamie\", \"jamie\", \"john\", \"johnny\", \"jamie\", \"johnny\", \"john\"]) "
   ]
  },
  {
   "cell_type": "markdown",
   "id": "737fcac2-d095-42dc-ad40-49d602ebe7a9",
   "metadata": {},
   "source": [
    "## Advance Assignment "
   ]
  },
  {
   "cell_type": "code",
   "execution_count": null,
   "id": "91d76985-784d-4fe7-9b66-fd79550eb33e",
   "metadata": {},
   "outputs": [],
   "source": [
    "def reverse_string_without_vowels(input_string):\n",
    "\tvowels = \"AEIOUaeiou\"\n",
    "\tnew_string = \"\"\n",
    "\tfor char in input_string:\n",
    "\t\tif char not in vowels:\n",
    "\t\t\tnew_string += char \n",
    "\n",
    "\treturn new_string[::-1]\n",
    "\n",
    "def rever_list_of_string_without_vowels(input_string):\n",
    "    words = input_string.split()\n",
    "    list_of_string = list(map(lambda word : reverse_string_without_vowels(word),words))\n",
    "    return list_of_string\n",
    "\n",
    "\n",
    "rever_list_of_string_without_vowels(\"wold is beautyful\")"
   ]
  },
  {
   "cell_type": "code",
   "execution_count": 17,
   "id": "a79caa6f-3cc7-4a46-90cc-dac332d64984",
   "metadata": {},
   "outputs": [
    {
     "data": {
      "text/plain": [
       "[12, -10]"
      ]
     },
     "execution_count": 17,
     "metadata": {},
     "output_type": "execute_result"
    }
   ],
   "source": [
    "from functools import reduce\n",
    "def product_positive_sum_negative(nums):\n",
    "    list_of_positive = list(filter(lambda num : num>0 , nums))\n",
    "    list_of_negative = list(filter(lambda num : num<0 , nums))\n",
    "\n",
    "    product_of_positive = reduce((lambda x, y: x * y), list_of_positive)\n",
    "    sum_of_negative = reduce((lambda x, y: x + y), list_of_negative)\n",
    "\n",
    "    return [product_of_positive,sum_of_negative]\n",
    "\n",
    "\n",
    "product_positive_sum_negative([2,3,-4,2,-6,1])  "
   ]
  },
  {
   "cell_type": "code",
   "execution_count": 22,
   "id": "5b81046f-92d3-4cf8-a17e-881dd502612e",
   "metadata": {},
   "outputs": [
    {
     "name": "stdout",
     "output_type": "stream",
     "text": [
      "[1, 4, 9, 16, 25]\n",
      "[1, 3, 5]\n"
     ]
    }
   ],
   "source": [
    "numbers = [1, 2, 3, 4, 5]\n",
    "\n",
    "print([num**2 for num in numbers ])\n",
    "\n",
    "print([num for num in numbers if num%2!=0])\n"
   ]
  },
  {
   "cell_type": "code",
   "execution_count": null,
   "id": "6456fbc0-9c49-4df4-8980-e125170272de",
   "metadata": {},
   "outputs": [],
   "source": []
  },
  {
   "cell_type": "code",
   "execution_count": null,
   "id": "4778824f-4f19-4e5e-a67c-4a0fd3dca26d",
   "metadata": {},
   "outputs": [],
   "source": []
  },
  {
   "cell_type": "code",
   "execution_count": null,
   "id": "346d1d0e-90f9-4cfa-b84c-1527d69a6691",
   "metadata": {},
   "outputs": [],
   "source": []
  },
  {
   "cell_type": "code",
   "execution_count": null,
   "id": "34ea31ee-6945-4d29-936f-d63a1d2deca6",
   "metadata": {},
   "outputs": [],
   "source": []
  },
  {
   "cell_type": "code",
   "execution_count": null,
   "id": "e339e4ff-47fe-410a-86f2-9d399ad982b2",
   "metadata": {},
   "outputs": [],
   "source": []
  },
  {
   "cell_type": "code",
   "execution_count": null,
   "id": "44476e59-7872-4e76-8fbd-5a7b2ce8e693",
   "metadata": {},
   "outputs": [],
   "source": []
  },
  {
   "cell_type": "code",
   "execution_count": null,
   "id": "2bfce71c-1626-417d-b4a9-6571925e996d",
   "metadata": {},
   "outputs": [],
   "source": []
  },
  {
   "cell_type": "code",
   "execution_count": null,
   "id": "008e4ac8-8d2c-4eaa-921e-453fcfeff0a9",
   "metadata": {},
   "outputs": [],
   "source": []
  },
  {
   "cell_type": "code",
   "execution_count": null,
   "id": "5db03851-b700-43d8-9c64-e5536073cc30",
   "metadata": {},
   "outputs": [],
   "source": []
  },
  {
   "cell_type": "code",
   "execution_count": null,
   "id": "9aa9850a-d09d-41d6-971a-6c40e9af212c",
   "metadata": {},
   "outputs": [],
   "source": []
  },
  {
   "cell_type": "code",
   "execution_count": null,
   "id": "c98cc6fb-8cec-47b9-86b1-693b3a4670ea",
   "metadata": {},
   "outputs": [],
   "source": []
  }
 ],
 "metadata": {
  "kernelspec": {
   "display_name": "Python 3 (ipykernel)",
   "language": "python",
   "name": "python3"
  },
  "language_info": {
   "codemirror_mode": {
    "name": "ipython",
    "version": 3
   },
   "file_extension": ".py",
   "mimetype": "text/x-python",
   "name": "python",
   "nbconvert_exporter": "python",
   "pygments_lexer": "ipython3",
   "version": "3.12.4"
  }
 },
 "nbformat": 4,
 "nbformat_minor": 5
}
