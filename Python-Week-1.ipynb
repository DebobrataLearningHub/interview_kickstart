{
 "cells": [
  {
   "cell_type": "markdown",
   "id": "ffb51bd2-1f84-4d32-a12e-2273110e6274",
   "metadata": {},
   "source": [
    "## Find sum of all digits"
   ]
  },
  {
   "cell_type": "code",
   "execution_count": 2,
   "id": "8ec1ef60-8b55-4218-ad53-7ca0d98f6f8f",
   "metadata": {},
   "outputs": [
    {
     "name": "stdin",
     "output_type": "stream",
     "text": [
      "enter the number 5342\n"
     ]
    },
    {
     "name": "stdout",
     "output_type": "stream",
     "text": [
      "14\n"
     ]
    }
   ],
   "source": [
    "nums = int(input(\"enter the number\"))\n",
    "\n",
    "sum_of_digit=0\n",
    "# Check the number is greater than 9 or not \n",
    "if(nums>9):\n",
    "    while (nums != 0):\n",
    "        #Module by 10 will return reminder \n",
    "        reminder = nums % 10\n",
    "        sum_of_digit+= reminder\n",
    "        #Floor division by 10 will exact quotient \n",
    "        nums = nums//10  \n",
    "else:\n",
    "  sum_of_digit=nums\n",
    "\n",
    "print(sum_of_digit)"
   ]
  },
  {
   "cell_type": "markdown",
   "id": "a068a593-84e2-49b1-ab07-12d3121754f7",
   "metadata": {},
   "source": [
    "## Find first pair (non-negligible) divisor for a number"
   ]
  },
  {
   "cell_type": "code",
   "execution_count": 5,
   "id": "678f1039-81c9-4690-9110-6c0696437a20",
   "metadata": {},
   "outputs": [
    {
     "name": "stdin",
     "output_type": "stream",
     "text": [
      "enter the number 64\n"
     ]
    },
    {
     "name": "stdout",
     "output_type": "stream",
     "text": [
      "2 32\n"
     ]
    }
   ],
   "source": [
    "nums = int(input(\"enter the number\"))\n",
    "\n",
    "#Non-Negligible means we can not consider 1 and number itself. \n",
    "#So iteration should start from 2 and need to go half for the number. Example if number if 64 then go upto 32\n",
    "for i in range(2,nums//2+1):\n",
    "    # Check if iteration value i if divide the nums\n",
    "    if(nums%i==0):\n",
    "        #if yes then get iterfation value and floor division value\n",
    "        print(i,nums//i)\n",
    "        break;   "
   ]
  },
  {
   "cell_type": "markdown",
   "id": "dbca2f7e-01ce-43c4-a727-44d2a246e385",
   "metadata": {},
   "source": [
    "## 1 Reverse An Array"
   ]
  },
  {
   "cell_type": "code",
   "execution_count": 56,
   "id": "9ece3262-a421-4de7-9742-a8e8fde43bff",
   "metadata": {},
   "outputs": [],
   "source": [
    "def reverse_array(nums):\n",
    "    \"\"\"\n",
    "    Args:\n",
    "     nums(list_int32)\n",
    "    Returns:\n",
    "     list_int32\n",
    "    \"\"\"\n",
    "    return nums[::-1]"
   ]
  },
  {
   "cell_type": "code",
   "execution_count": null,
   "id": "3da52f76-9d8b-4d93-9817-098b93839c8c",
   "metadata": {},
   "outputs": [],
   "source": []
  },
  {
   "cell_type": "code",
   "execution_count": null,
   "id": "990f393c-dbde-4784-8676-dd41c1961c9d",
   "metadata": {},
   "outputs": [],
   "source": []
  },
  {
   "cell_type": "markdown",
   "id": "b6965c26-a96f-4efe-bd4f-318f742cc87f",
   "metadata": {},
   "source": [
    "## 2 Insert An Element At A Specific Position In An Array"
   ]
  },
  {
   "cell_type": "code",
   "execution_count": null,
   "id": "289a26f1-eab6-45c7-8e81-973024c7c34a",
   "metadata": {},
   "outputs": [],
   "source": []
  },
  {
   "cell_type": "code",
   "execution_count": 57,
   "id": "9d040279-7dc0-491d-ba12-dcf887be8bcc",
   "metadata": {},
   "outputs": [],
   "source": [
    "def insert_element_at_position(nums, element, position):\n",
    "    \"\"\"\n",
    "    Args:\n",
    "     nums(list_int32)\n",
    "     element(int32)\n",
    "     position(int32)\n",
    "    Returns:\n",
    "     list_int32\n",
    "    \"\"\"\n",
    "    list_len = len(nums)\n",
    "    result=[]\n",
    "    if(list_len == position):\n",
    "        nums[list_len-1] = element\n",
    "        result = nums\n",
    "    elif(list_len>position):\n",
    "        for i in range(list_len):\n",
    "            if(i+1==position):\n",
    "                result.append(element)\n",
    "                result.extend(nums[i:list_len-1])\n",
    "                break;                              \n",
    "            else:\n",
    "                result.append(nums[i])\n",
    "    return result"
   ]
  },
  {
   "cell_type": "code",
   "execution_count": null,
   "id": "20599948-7ecd-4a15-ac1c-e439be869916",
   "metadata": {},
   "outputs": [],
   "source": []
  },
  {
   "cell_type": "code",
   "execution_count": null,
   "id": "8062fbda-c5c7-4d63-a8ed-e89f52690d81",
   "metadata": {},
   "outputs": [],
   "source": []
  },
  {
   "cell_type": "markdown",
   "id": "06ac0d7a-9f16-4187-87de-94a0bcd57fed",
   "metadata": {},
   "source": [
    "## 3 Intersection of Two Array"
   ]
  },
  {
   "cell_type": "code",
   "execution_count": 31,
   "id": "5072b62d-1daf-4448-a653-c6e4aa3de915",
   "metadata": {},
   "outputs": [],
   "source": [
    "def get_intersection_with_maintained_frequency(a, b):\n",
    "    \"\"\"\n",
    "    Args:\n",
    "     a(list_int32)\n",
    "     b(list_int32)\n",
    "    Returns:\n",
    "     list_int32\n",
    "    \"\"\"\n",
    "    result = []\n",
    "    a.sort()\n",
    "    b.sort()\n",
    "\n",
    "    nums1_len = len(a)\n",
    "    nums2_len = len(b)\n",
    "    i=0\n",
    "    j=0\n",
    "\n",
    "    while(i<nums1_len and j<nums2_len):\n",
    "        if(a[i]==b[j]):\n",
    "            result.append(a[i])\n",
    "            i+=1\n",
    "            j+=1\n",
    "        elif(a[i]<b[j]):\n",
    "            i+=1\n",
    "        else:\n",
    "            j+=1\n",
    "    return result\n",
    "        "
   ]
  },
  {
   "cell_type": "markdown",
   "id": "e320fb54-16fd-4198-9d5b-eb1af8d41a90",
   "metadata": {},
   "source": [
    "## 4 Find Pivot Index"
   ]
  },
  {
   "cell_type": "code",
   "execution_count": 58,
   "id": "7126f82d-a7e5-442e-941b-4c9859a4cbf8",
   "metadata": {},
   "outputs": [],
   "source": [
    "def get_pivot_index(numbers):\n",
    "    \"\"\"\n",
    "    Args:\n",
    "     numbers(list_int32)\n",
    "    Returns:\n",
    "     int32\n",
    "    \"\"\"\n",
    "    for i in range(len(numbers)):\n",
    "        if(sum(numbers[:i])==sum(numbers[i+1:])):\n",
    "            return i\n",
    "    return -1"
   ]
  },
  {
   "cell_type": "code",
   "execution_count": null,
   "id": "1518a8d5-6bee-44b1-8d2f-d39f21356960",
   "metadata": {},
   "outputs": [],
   "source": []
  },
  {
   "cell_type": "markdown",
   "id": "d07d49cd-466d-427d-94c3-c235e9c034a1",
   "metadata": {},
   "source": [
    "## 5 Reverse Words In A Given String"
   ]
  },
  {
   "cell_type": "code",
   "execution_count": null,
   "id": "57d3e467-dd06-474c-aa73-302ef8ef103a",
   "metadata": {},
   "outputs": [],
   "source": []
  },
  {
   "cell_type": "code",
   "execution_count": 34,
   "id": "4354cfca-e371-4a5e-90ca-a86a43076176",
   "metadata": {},
   "outputs": [
    {
     "data": {
      "text/plain": [
       "'kickstart'"
      ]
     },
     "execution_count": 34,
     "metadata": {},
     "output_type": "execute_result"
    }
   ],
   "source": [
    "def reverse_words(s):\n",
    "    \"\"\"\n",
    "    Args:\n",
    "     s(str)\n",
    "    Returns:\n",
    "     str\n",
    "    \"\"\"\n",
    "    # Write your code here.\n",
    "    words = s.split()\n",
    "    rev_words = words[::-1]\n",
    "    return \" \".join(rev_words)\n",
    "\n",
    "reverse_words(\"kickstart\")"
   ]
  },
  {
   "cell_type": "markdown",
   "id": "6b90c7e8-1d48-408c-8dc6-e948d719babc",
   "metadata": {},
   "source": [
    "## 6 First Occurrence Of A Character"
   ]
  },
  {
   "cell_type": "code",
   "execution_count": null,
   "id": "9143f8cc-a7a4-4d27-a267-45e8d72c7983",
   "metadata": {},
   "outputs": [],
   "source": []
  },
  {
   "cell_type": "code",
   "execution_count": 38,
   "id": "005cea43-11db-40ba-a014-4791f8f9de34",
   "metadata": {},
   "outputs": [
    {
     "data": {
      "text/plain": [
       "-1"
      ]
     },
     "execution_count": 38,
     "metadata": {},
     "output_type": "execute_result"
    }
   ],
   "source": [
    "def find_first_occurrence(s, to_find):\n",
    "    \"\"\"\n",
    "    Args:\n",
    "     s(str)\n",
    "     to_find(char)\n",
    "    Returns:\n",
    "     int32\n",
    "    \"\"\"\n",
    "    # Write your code here.\n",
    "    idx = 0 \n",
    "    for i in s:\n",
    "        if i==to_find:\n",
    "            return idx\n",
    "        idx+=1\n",
    "    return -1\n",
    "\n",
    "find_first_occurrence(\"kickstart\",\"n\")"
   ]
  },
  {
   "cell_type": "markdown",
   "id": "79e33d11-a54a-4faf-82c0-4fc9ce6c968c",
   "metadata": {},
   "source": [
    "## 7 Count Alphabets"
   ]
  },
  {
   "cell_type": "code",
   "execution_count": null,
   "id": "bb983a9a-208b-4da2-a30f-5de4d6eba3ee",
   "metadata": {},
   "outputs": [],
   "source": []
  },
  {
   "cell_type": "code",
   "execution_count": 41,
   "id": "1731da50-bff8-4d26-a3b2-0b6fe530a4c1",
   "metadata": {},
   "outputs": [
    {
     "data": {
      "text/plain": [
       "0"
      ]
     },
     "execution_count": 41,
     "metadata": {},
     "output_type": "execute_result"
    }
   ],
   "source": [
    "def count_alphabets(s):\n",
    "    \"\"\"\n",
    "    Args:\n",
    "     s(str)\n",
    "    Returns:\n",
    "     int32\n",
    "    \"\"\"\n",
    "    count=0\n",
    "    alphabets = ['a', 'b', 'c', 'd', 'e', 'f', 'g', 'h', 'i', 'j', 'k', 'l', 'm', 'n', 'o', 'p', 'q', 'r', 's', 't', 'u', 'v', 'w', 'x', 'y', 'z']\n",
    "    for i in s:\n",
    "        if i.lower() in alphabets:\n",
    "            count+=1\n",
    "    return count\n",
    "\n",
    "count_alphabets(\"123 !@#$\")"
   ]
  },
  {
   "cell_type": "markdown",
   "id": "ee3086c0-d7ee-407b-a6e4-749f0408cc57",
   "metadata": {},
   "source": [
    "## 8 Convert Uppercase Characters To Lowercase"
   ]
  },
  {
   "cell_type": "code",
   "execution_count": null,
   "id": "e79adb82-9607-44ad-abba-379bb9b5cfb0",
   "metadata": {},
   "outputs": [],
   "source": []
  },
  {
   "cell_type": "code",
   "execution_count": 43,
   "id": "1fb2bd4d-15a9-43e7-bb31-a4278c249327",
   "metadata": {},
   "outputs": [
    {
     "data": {
      "text/plain": [
       "'kickstart'"
      ]
     },
     "execution_count": 43,
     "metadata": {},
     "output_type": "execute_result"
    }
   ],
   "source": [
    "def uppercase_to_lowercase(s):\n",
    "    \"\"\"\n",
    "    Args:\n",
    "     s(str)\n",
    "    Returns:\n",
    "     str\n",
    "    \"\"\"\n",
    "    # Write your code here.\n",
    "    return s.lower()\n",
    "\n",
    "uppercase_to_lowercase(\"KICKSTART\")"
   ]
  },
  {
   "cell_type": "markdown",
   "id": "3bec739f-05bc-40e4-bb4c-b68a5abd9320",
   "metadata": {},
   "source": [
    "## 9 Length Of The Last Word"
   ]
  },
  {
   "cell_type": "code",
   "execution_count": null,
   "id": "b61622b1-14cb-45d7-860e-ade0dfe5c614",
   "metadata": {},
   "outputs": [],
   "source": []
  },
  {
   "cell_type": "code",
   "execution_count": 53,
   "id": "fa22f832-f965-4bb0-8e06-c6c9f2adcbaa",
   "metadata": {},
   "outputs": [
    {
     "data": {
      "text/plain": [
       "1"
      ]
     },
     "execution_count": 53,
     "metadata": {},
     "output_type": "execute_result"
    }
   ],
   "source": [
    "def length_of_last_word(sentence):\n",
    "    \"\"\"\n",
    "    Args:\n",
    "     sentence(str)\n",
    "    Returns:\n",
    "     int32\n",
    "    \"\"\"\n",
    "    # Write your code here.\n",
    "    clean_sentence = sentence.strip()\n",
    "    if(len(clean_sentence)>0):\n",
    "        words = clean_sentence.split()\n",
    "        last_word = words[-1]\n",
    "        return len(last_word)\n",
    "    else:\n",
    "        return 0\n",
    "\n",
    "length_of_last_word(\"m\")"
   ]
  },
  {
   "cell_type": "code",
   "execution_count": null,
   "id": "54703fba-abb5-42fd-8ce9-e5a83c34ee2b",
   "metadata": {},
   "outputs": [],
   "source": []
  },
  {
   "cell_type": "code",
   "execution_count": null,
   "id": "3bc32ec9-ebfc-4972-b233-8d94ef382f21",
   "metadata": {},
   "outputs": [],
   "source": []
  },
  {
   "cell_type": "code",
   "execution_count": null,
   "id": "f84596bd-5a56-4055-bfb2-1046b9385919",
   "metadata": {},
   "outputs": [],
   "source": []
  },
  {
   "cell_type": "code",
   "execution_count": null,
   "id": "10b06132-c1f0-4ad9-9b28-ff2a446d763f",
   "metadata": {},
   "outputs": [],
   "source": []
  },
  {
   "cell_type": "code",
   "execution_count": null,
   "id": "e6d5efb2-f58a-40ec-af14-6886f6ab89a5",
   "metadata": {},
   "outputs": [],
   "source": []
  },
  {
   "cell_type": "code",
   "execution_count": null,
   "id": "4ae8560b-912e-4267-a5b0-958a4b649180",
   "metadata": {},
   "outputs": [],
   "source": []
  },
  {
   "cell_type": "code",
   "execution_count": null,
   "id": "6d96ef53-141a-4019-b7fd-bd3c89a5295d",
   "metadata": {},
   "outputs": [],
   "source": []
  },
  {
   "cell_type": "code",
   "execution_count": null,
   "id": "cbec2893-7b38-482d-8aac-29b0749b550c",
   "metadata": {},
   "outputs": [],
   "source": []
  },
  {
   "cell_type": "code",
   "execution_count": null,
   "id": "c2c83743-8fa6-45f2-8591-d07cdb16413d",
   "metadata": {},
   "outputs": [],
   "source": []
  },
  {
   "cell_type": "code",
   "execution_count": null,
   "id": "e27787c0-abac-4dec-ab49-27581b890ff6",
   "metadata": {},
   "outputs": [],
   "source": []
  },
  {
   "cell_type": "code",
   "execution_count": null,
   "id": "e6fae378-99b4-4857-8cb5-6a421a745fc4",
   "metadata": {},
   "outputs": [],
   "source": []
  },
  {
   "cell_type": "code",
   "execution_count": null,
   "id": "c85f79b5-205e-47c3-af25-78fa3136b69b",
   "metadata": {},
   "outputs": [],
   "source": []
  },
  {
   "cell_type": "code",
   "execution_count": null,
   "id": "91c9e19f-9cce-46de-8a6f-68740b70d7af",
   "metadata": {},
   "outputs": [],
   "source": []
  },
  {
   "cell_type": "code",
   "execution_count": null,
   "id": "cc7a59b1-cd3b-4f9d-b691-9ee8d08161a0",
   "metadata": {},
   "outputs": [],
   "source": []
  },
  {
   "cell_type": "code",
   "execution_count": null,
   "id": "8423fd26-16c5-46d7-9bf0-d2bc0120af4c",
   "metadata": {},
   "outputs": [],
   "source": []
  },
  {
   "cell_type": "code",
   "execution_count": null,
   "id": "9d68f3da-0ffc-44c7-ba16-8ac4c6ea2eae",
   "metadata": {},
   "outputs": [],
   "source": []
  },
  {
   "cell_type": "code",
   "execution_count": null,
   "id": "bc3e9d32-7ee1-4a28-9e26-38334b4e2fb1",
   "metadata": {},
   "outputs": [],
   "source": []
  },
  {
   "cell_type": "code",
   "execution_count": null,
   "id": "67a0c0cf-cd16-4354-919f-3da03275a2d4",
   "metadata": {},
   "outputs": [],
   "source": []
  },
  {
   "cell_type": "code",
   "execution_count": null,
   "id": "efb1f6e3-a470-49e0-b3c6-297a7e251326",
   "metadata": {},
   "outputs": [],
   "source": []
  },
  {
   "cell_type": "code",
   "execution_count": null,
   "id": "0fd2b927-efe4-4dc4-90b2-33eed1af9d47",
   "metadata": {},
   "outputs": [],
   "source": []
  },
  {
   "cell_type": "code",
   "execution_count": null,
   "id": "4efc7cca-6d79-42d8-9fc0-aca25593becc",
   "metadata": {},
   "outputs": [],
   "source": []
  },
  {
   "cell_type": "code",
   "execution_count": null,
   "id": "8c63cb17-2826-4d93-abc7-7ecb1bf40f41",
   "metadata": {},
   "outputs": [],
   "source": []
  },
  {
   "cell_type": "code",
   "execution_count": null,
   "id": "dcd85ce9-a423-4509-a49b-af1e574d7d11",
   "metadata": {},
   "outputs": [],
   "source": []
  },
  {
   "cell_type": "code",
   "execution_count": null,
   "id": "73a88aac-c59f-4fd5-bee1-9e1508295ae7",
   "metadata": {},
   "outputs": [],
   "source": []
  },
  {
   "cell_type": "code",
   "execution_count": null,
   "id": "02e068a8-27b4-446f-8578-c77ba2987123",
   "metadata": {},
   "outputs": [],
   "source": []
  },
  {
   "cell_type": "code",
   "execution_count": null,
   "id": "48ba5ed1-157f-4d6e-8648-154c1db52e1d",
   "metadata": {},
   "outputs": [],
   "source": []
  },
  {
   "cell_type": "code",
   "execution_count": null,
   "id": "bc7aeea7-af3a-44a0-a04b-3112b1e14bdb",
   "metadata": {},
   "outputs": [],
   "source": []
  },
  {
   "cell_type": "code",
   "execution_count": null,
   "id": "ffbdaff5-91e2-487d-b57c-bd509432e0c6",
   "metadata": {},
   "outputs": [],
   "source": []
  },
  {
   "cell_type": "code",
   "execution_count": null,
   "id": "01aaf752-2eb6-4f8d-8329-c536c1a1e3eb",
   "metadata": {},
   "outputs": [],
   "source": []
  },
  {
   "cell_type": "code",
   "execution_count": null,
   "id": "9bee7e41-6f15-412b-969b-99fc94a963cc",
   "metadata": {},
   "outputs": [],
   "source": []
  },
  {
   "cell_type": "code",
   "execution_count": null,
   "id": "a2e6c2c5-e742-4455-9c40-e9700a1248c1",
   "metadata": {},
   "outputs": [],
   "source": []
  },
  {
   "cell_type": "code",
   "execution_count": null,
   "id": "dc0ae4e4-ffa5-4aab-b249-5d9774f80208",
   "metadata": {},
   "outputs": [],
   "source": []
  },
  {
   "cell_type": "code",
   "execution_count": null,
   "id": "3225fc77-1ce3-4e5a-8c3a-d6829756d0a0",
   "metadata": {},
   "outputs": [],
   "source": []
  },
  {
   "cell_type": "code",
   "execution_count": null,
   "id": "9f4ea547-fb04-43b9-8aa9-652a431e08a0",
   "metadata": {},
   "outputs": [],
   "source": []
  },
  {
   "cell_type": "code",
   "execution_count": null,
   "id": "4d590725-cd34-41a8-8f31-e6361ec8299d",
   "metadata": {},
   "outputs": [],
   "source": []
  },
  {
   "cell_type": "code",
   "execution_count": null,
   "id": "1a8a45c9-a82c-4828-be01-e86493c27788",
   "metadata": {},
   "outputs": [],
   "source": []
  },
  {
   "cell_type": "code",
   "execution_count": null,
   "id": "58014606-94fd-4dc0-885c-bf7a58861fc5",
   "metadata": {},
   "outputs": [],
   "source": []
  },
  {
   "cell_type": "code",
   "execution_count": null,
   "id": "283e2aee-42e1-4e7c-a3e8-9d27c79d3e33",
   "metadata": {},
   "outputs": [],
   "source": []
  },
  {
   "cell_type": "code",
   "execution_count": null,
   "id": "7d71ceca-fe81-4d00-8efd-7e91aaee4160",
   "metadata": {},
   "outputs": [],
   "source": []
  },
  {
   "cell_type": "code",
   "execution_count": null,
   "id": "c31b4644-d98b-41bd-9425-184bb091b8c6",
   "metadata": {},
   "outputs": [],
   "source": []
  },
  {
   "cell_type": "code",
   "execution_count": null,
   "id": "14482d10-1b8c-4016-9699-c820994a5249",
   "metadata": {},
   "outputs": [],
   "source": []
  },
  {
   "cell_type": "code",
   "execution_count": null,
   "id": "72e1aafc-63c3-4caa-a59f-b53260d594b3",
   "metadata": {},
   "outputs": [],
   "source": []
  },
  {
   "cell_type": "code",
   "execution_count": null,
   "id": "27d1eda4-293f-4d14-9bfa-b081eedaff37",
   "metadata": {},
   "outputs": [],
   "source": []
  },
  {
   "cell_type": "code",
   "execution_count": null,
   "id": "62ea6293-6b92-4c6f-abf1-bef14dca84c7",
   "metadata": {},
   "outputs": [],
   "source": []
  }
 ],
 "metadata": {
  "kernelspec": {
   "display_name": "Python 3 (ipykernel)",
   "language": "python",
   "name": "python3"
  },
  "language_info": {
   "codemirror_mode": {
    "name": "ipython",
    "version": 3
   },
   "file_extension": ".py",
   "mimetype": "text/x-python",
   "name": "python",
   "nbconvert_exporter": "python",
   "pygments_lexer": "ipython3",
   "version": "3.12.4"
  }
 },
 "nbformat": 4,
 "nbformat_minor": 5
}
